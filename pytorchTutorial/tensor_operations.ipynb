{
  "nbformat": 4,
  "nbformat_minor": 0,
  "metadata": {
    "colab": {
      "name": "tensor-operations.ipynb",
      "provenance": [],
      "authorship_tag": "ABX9TyMV88MiB4EpxguLqGm8/84l",
      "include_colab_link": true
    },
    "kernelspec": {
      "name": "python3",
      "display_name": "Python 3"
    }
  },
  "cells": [
    {
      "cell_type": "markdown",
      "metadata": {
        "id": "view-in-github",
        "colab_type": "text"
      },
      "source": [
        "<a href=\"https://colab.research.google.com/github/fionatu/ReadingNotes/blob/master/pytorchTutorial/tensor_operations.ipynb\" target=\"_parent\"><img src=\"https://colab.research.google.com/assets/colab-badge.svg\" alt=\"Open In Colab\"/></a>"
      ]
    },
    {
      "cell_type": "code",
      "metadata": {
        "id": "Q2fOTir_nRFy",
        "colab_type": "code",
        "outputId": "7c5c106b-b95f-434b-cd91-4827c97bce4b",
        "colab": {
          "base_uri": "https://localhost:8080/",
          "height": 85
        }
      },
      "source": [
        "import torch\n",
        "import numpy as np\n",
        "\n",
        "# 1. tensor的拼接\n",
        "# torch.cat: 在原有维度的拼接\n",
        "tensor = torch.ones((2,3))\n",
        "t_0 = torch.cat([tensor, tensor], dim=0) # 把第0维度由2变成4\n",
        "t_1 = torch.cat([tensor, tensor, tensor], dim=1) # 把第1维度由3变成9\n",
        "# print(\"t_0: {} shape: {}\\n\\nt_1: {} shape: {}\".format(t_0, t_0.shape, t_1, t_1.shape))\n",
        "\n",
        "# torch.stack: 新增维度并拼接\n",
        "tensor = torch.ones((2,3))\n",
        "t_stack_2 = torch.stack([tensor,tensor], dim=2)\n",
        "# print(\"t_stack_2: {} shape: {}\\n\".format(t_stack_2, t_stack_2.shape)) # shape变成([2,3,2])\n",
        "\n",
        "t_stack_0 = torch.stack([tensor,tensor], dim=0)\n",
        "# print(\"t_stack_0: {} shape: {}\\n\".format(t_stack_0, t_stack_0.shape)) # shape变成([2,2,3])\n",
        "\n",
        "# 需要花时间能理解\n",
        "# arr = np.array([[1,2],[3,4],[5,6]])\n",
        "# t = torch.from_numpy(arr)\n",
        "# t_2 = torch.stack([t,t,t,t], dim=2)\n",
        "# print(t.shape)\n",
        "# print(t_2.shape)\n",
        "# print(t_2)\n",
        "\n",
        "# 2. tensor的切分\n",
        "# torch.chunk\n",
        "tensor = torch.ones((2,6))\n",
        "list_of_tensors = torch.chunk(tensor, dim=1, chunks=3) # 切成3个size=(2,2)的的张量\n",
        "# print(list_of_tensors)\n",
        "\n",
        "# torch.split\n",
        "tensor = torch.ones((2,6))\n",
        "list_of_tensors = torch.split(tensor, 4, dim=1) # 4表示每一份在dim=1的长度, 切出来是size=(2,4)和(2,2)\n",
        "list_of_tensors = torch.split(tensor, [2, 3, 1], dim=1) # 用数组指定每一份的大小\n",
        "# for idx, t in enumerate(list_of_tensors):\n",
        "#   print(\"第{}个张量是:{}, shape: {}\".format(idx, t, t.shape))\n",
        "\n",
        "# 3. tensor的索引\n",
        "# torch.index_select\n",
        "tensor = torch.randint(0,9,size=(3,4))\n",
        "idx = torch.tensor([0,2]) # index的类型必须为long\n",
        "t_select = torch.index_select(tensor, dim=0, index=idx)\n",
        "# print(t_select)\n",
        "\n",
        "# torch.masked_select, 结果是个一维的向量\n",
        "tensor = torch.randint(0,9,size=(3,4))\n",
        "# print(\"tensor: {}\".format(tensor))\n",
        "mask = tensor.ge(5) # ge是greater and equal >=5，返回结果是个tensor\n",
        "# print(\"mask: {}\".format(mask))\n",
        "t_select = torch.masked_select(tensor, mask=mask) \n",
        "# print(\"t_select: {}\".format(t_select))\n",
        "\n",
        "# 4. 张量的变换，\n",
        "# torch.reshape, 新旧变量共享内存\n",
        "tensor = torch.randperm(9).reshape((3,3))\n",
        "# print(tensor)\n",
        "\n",
        "# torch.transpose(inout, dim0, dim1), dim0和dim1为需要交换的两个维度\n",
        "tensor = torch.tensor([[0,1], [2,3], [4,5]])\n",
        "t_transpose = torch.transpose(tensor,0,1)\n",
        "# print(t_transpose)\n",
        "t_transpose = torch.t(tensor) # torch.t专门为二维张量的转置设立，简化接口\n",
        "# print(t_transpose)\n",
        "\n",
        "# torch.squeeze, 移除所有或者指定的(如有)size为1的维度\n",
        "# torch.unsqueeze, 添加维度\n",
        "tensor = torch.rand((1,3,4,1))\n",
        "t_sq = torch.squeeze(tensor) #\n",
        "print(t_sq.shape) # (3,4)\n",
        "\n",
        "t_sq = torch.squeeze(tensor, dim=0)\n",
        "print(t_sq.shape) # (3,4,1)\n",
        "\n",
        "t_sq = torch.squeeze(tensor, dim=0)\n",
        "print(t_sq.shape) # (3,4,1)\n"
      ],
      "execution_count": 18,
      "outputs": [
        {
          "output_type": "stream",
          "text": [
            "tensor([[[0.9806, 0.6126],\n",
            "         [0.9724, 0.7977]]])\n",
            "tensor([[0.9806, 0.6126],\n",
            "        [0.9724, 0.7977]])\n"
          ],
          "name": "stdout"
        }
      ]
    }
  ]
}