{
  "nbformat": 4,
  "nbformat_minor": 0,
  "metadata": {
    "colab": {
      "name": "tensor.ipynb",
      "provenance": [],
      "collapsed_sections": [],
      "authorship_tag": "ABX9TyM6oN9Q0mQj8s0WH9pzklIX",
      "include_colab_link": true
    },
    "kernelspec": {
      "name": "python3",
      "display_name": "Python 3"
    }
  },
  "cells": [
    {
      "cell_type": "markdown",
      "metadata": {
        "id": "view-in-github",
        "colab_type": "text"
      },
      "source": [
        "<a href=\"https://colab.research.google.com/github/fionatu/ReadingNotes/blob/master/pytorchTutorial/tensor.ipynb\" target=\"_parent\"><img src=\"https://colab.research.google.com/assets/colab-badge.svg\" alt=\"Open In Colab\"/></a>"
      ]
    },
    {
      "cell_type": "code",
      "metadata": {
        "id": "K7KqQc5xoF-V",
        "colab_type": "code",
        "outputId": "b8810c8d-2074-45a2-c0d5-9c745452f1f0",
        "colab": {
          "base_uri": "https://localhost:8080/",
          "height": 51
        }
      },
      "source": [
        "import numpy as np\n",
        "import torch\n",
        "\n",
        "# 1. 直接创建\n",
        "# create tensor from torch.tensor\n",
        "arr = np.ones((3,3))\n",
        "print(arr.dtype)\n",
        "tensor = torch.tensor(arr)\n",
        "\n",
        "# create tensor from torch.from_numpy\n",
        "# 共享内存，numpy array和tensor任意一个变了另一个也自动变化\n",
        "arr = np.array([[1, 2, 3],[4, 5, 6]])\n",
        "tensor = torch.from_numpy(arr)\n",
        "\n",
        "# 2. 依据数值创建\n",
        "# 全0张量\n",
        "tensor = torch.zeros(2,3) # input为size，此处为2x3的二维数组\n",
        "tensor_copy = torch.zeros_like(tensor) # input为tensor，指创建跟tensor size一样的全0张量\n",
        "\n",
        "# 全1张量\n",
        "tensor = torch.ones(2,3) \n",
        "tensor_copy = torch.ones_like(tensor) \n",
        "\n",
        "# torch.full\n",
        "tensor = torch.full((2,3), 10) # size为2x3的全10二维数组\n",
        "\n",
        "# torch.eye(n,m), 对角矩阵\n",
        "tensor = torch.eye(3) # size为3x3的对角矩阵,m默认为none,此时为方阵\n",
        "tensor = torch.eye(3,4) # size为3x4的对角矩阵\n",
        "\n",
        "# torch.arange(start, end, step=1), 不包含end, step表示步长\n",
        "tensor = torch.arange(0,5,1, dtype=torch.float) # tensor = tensor([0.0, 1.0, 2.0, 3.0, 4.0])\n",
        "\n",
        "# torch.normal(mean,std), mean/std可分别为标量和张量，所以有四种组合\n",
        "tensor = torch.normal(0., 1., size=(4,)) # 当两者都为标量时，必须指定结果张量的size\n",
        "\n",
        "# 3. 依据概率分布创建\n",
        "# 标准正态分布\n",
        "tensor = torch.randn((2,3))\n",
        "\n",
        "# 在[0,1)的均匀分布\n",
        "tensor = torch.rand((2,3))\n",
        "\n",
        "# 在[low, high)的整数均匀分布\n",
        "tensor = torch.randint(0, 10, (2,3))\n",
        "tensor = torch.randint(low=0, high=10, size=(2,3)) # 等同于上\n",
        "\n",
        "# 生成0到n-1的随机排列,常用来生成索引\n",
        "tensor = torch.randperm(4) # tensor = tensor([0,3,2,1])\n",
        "\n",
        "# 伯努利分布\n",
        "arr = np.array([0.9, 0.4])\n",
        "prob = torch.from_numpy(arr)\n",
        "tensor = torch.bernoulli(prob) # tensor的size与prob一样，并且每个维度把相应维度的prob数值当做概率产生1\n",
        "\n",
        "print(tensor)"
      ],
      "execution_count": 0,
      "outputs": [
        {
          "output_type": "stream",
          "text": [
            "float64\n",
            "tensor([1., 0.], dtype=torch.float64)\n"
          ],
          "name": "stdout"
        }
      ]
    }
  ]
}